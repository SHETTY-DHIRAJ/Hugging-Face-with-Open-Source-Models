{
 "cells": [
  {
   "cell_type": "markdown",
   "id": "fb89cb94",
   "metadata": {
    "id": "Lyy5zEjDMY_L"
   },
   "source": [
    "# Deploy ML Models on 🤗 Hub using Gradio"
   ]
  },
  {
   "cell_type": "markdown",
   "id": "87e611f0",
   "metadata": {
    "id": "H0CMZcSPRXni"
   },
   "source": [
    "- ML deployment using 🤗 Hub and Gradio libraries.\n",
    "- Deploy to Hugging Face Spaces.\n",
    "- If you would like to follow along or deploy to Hugging Face Spaces later, you can do so by creating a free account on https://huggingface.co/"
   ]
  },
  {
   "cell_type": "markdown",
   "id": "9a3aed6e",
   "metadata": {},
   "source": [
    "- Install the following:\n",
    "\n",
    "```\n",
    "    !pip install transformers\n",
    "    !pip install gradio\n",
    "    !pip install gradio_client\n",
    "```"
   ]
  },
  {
   "cell_type": "markdown",
   "id": "5904ec60",
   "metadata": {},
   "source": [
    "- Note that if you run into issues when making an API call to your own space, you can try to upgrade your version of gradio_client:\n",
    "\n",
    "```\n",
    "pip install -U gradio_client\n",
    "```"
   ]
  },
  {
   "cell_type": "markdown",
   "id": "3aedba7d",
   "metadata": {},
   "source": [
    "- Here is some code that suppresses warning messages."
   ]
  },
  {
   "cell_type": "code",
   "execution_count": null,
   "id": "df41f19a",
   "metadata": {
    "height": 115
   },
   "outputs": [],
   "source": [
    "from transformers.utils import logging\n",
    "logging.set_verbosity_error()\n",
    "\n",
    "import warnings\n",
    "warnings.filterwarnings(\"ignore\", \n",
    "                        message=\"Using the model-agnostic default `max_length`\")"
   ]
  },
  {
   "cell_type": "markdown",
   "id": "b60b7611",
   "metadata": {
    "id": "tpBYPpSxNTyq"
   },
   "source": [
    "## 🤗 Spaces"
   ]
  },
  {
   "cell_type": "markdown",
   "id": "0d02c9cc",
   "metadata": {},
   "source": [
    "- You can create an account on hugging face from [here](https://huggingface.co)."
   ]
  },
  {
   "cell_type": "markdown",
   "id": "8f928391",
   "metadata": {},
   "source": [
    "### App Demo: Image Captioning"
   ]
  },
  {
   "cell_type": "markdown",
   "id": "5ba69325",
   "metadata": {},
   "source": [
    "- Load the model and create an app interface using Gradio to perform Image Captioning."
   ]
  },
  {
   "cell_type": "code",
   "execution_count": null,
   "id": "df71b959",
   "metadata": {
    "height": 47
   },
   "outputs": [],
   "source": [
    "import os\n",
    "import gradio as gr\n",
    "from transformers import pipeline"
   ]
  },
  {
   "cell_type": "code",
   "execution_count": null,
   "id": "26f963b0",
   "metadata": {
    "height": 47
   },
   "outputs": [],
   "source": [
    "pipe = pipeline(\"image-to-text\",\n",
    "                model=\"./models/Salesforce/blip-image-captioning-base\")"
   ]
  },
  {
   "cell_type": "code",
   "execution_count": null,
   "id": "d5bddcf7",
   "metadata": {
    "height": 64
   },
   "outputs": [],
   "source": [
    "def launch(input):\n",
    "    out = pipe(input)\n",
    "    return out[0]['generated_text']"
   ]
  },
  {
   "cell_type": "code",
   "execution_count": null,
   "id": "765a4a36",
   "metadata": {
    "height": 64
   },
   "outputs": [],
   "source": [
    "iface = gr.Interface(launch,\n",
    "                     inputs=gr.Image(type='pil'),\n",
    "                     outputs=\"text\")"
   ]
  },
  {
   "cell_type": "code",
   "execution_count": null,
   "id": "59748eab",
   "metadata": {
    "colab": {
     "base_uri": "https://localhost:8080/",
     "height": 974,
     "referenced_widgets": [
      "4ba8d1bff6d44c92ae528cda8187ce49",
      "67483ca2e45c45259af3f352827bf53b",
      "e3dace1bc16d4e058ee35f8e886b0936",
      "5f009a45398a4116a88a696442e06c29",
      "763342148abc4e77ba63dd1d1e980993",
      "ec837fcaea3640e99a23dc96ae38bcc7",
      "fcf8de9c6d28420faebdd65aaf5df603",
      "b0fc65f7dea340249cd63d31ff46eba1",
      "d86a7eb0579f41c19e0303eae1ac21f7",
      "80b83285d02d4b35bc6a6daa832e8e09",
      "95d01467cd4e48518b6df1d62ddb0c26",
      "709f4091265b4040b3d6af504c024d06",
      "e6a5a267762644ae9c9d416e5cd75b8d",
      "24a5fe19b53a415ea21d66ebf3ae0009",
      "a0d27350f5c14a89817356415aa757b6",
      "8f63df671643427dab3cb426a6507d9e",
      "e0015e5366d74a9c93e89925663edb26",
      "ad4a7b35714d4eca9ccf80daca1da2eb",
      "31361b8b1cfa405e98a3e3f4968f5d2b",
      "94cdca851499435bad103547844b32a1",
      "e557d58e254b41ab82ec4dee16465c41",
      "cf69a97e831d4ec2a6e461484d4e8d8f",
      "f63f57484fb047bd92fd84d7439bf51a",
      "6d102d1970e14ed090549c5ab6ebed10",
      "f3fbb7f5ed0d403cb5e310c1145d4151",
      "452c4b9c2f12463e9c3c0bccaec252e2",
      "e404665bcffd4d3a881d82c3ac2bc1ec",
      "38bb8b739be5415b8a40d6ed02eabab3",
      "e8f1ec6304b4488480ffc884bc4caceb",
      "6c498220a86c415088dffcbc2829cbef",
      "797b7f9d312e49649950326044516b66",
      "ada6034f3731409ab097218818c452eb",
      "25d25094926240e4b69dcb4b34d73dc8",
      "fb522fdfd58546e095879d2883fd2228",
      "5b100a9e72f94eef899c395eecb4638a",
      "afb06e9a39c14454a53976a5400e4565",
      "6cd02837e1c0476aaed52476469d3f67",
      "eec84cbebc7f43698a450817250b8475",
      "81165c4a70294685b006641c390c3f3f",
      "6944ce1c46ea45979276d0662fe34b80",
      "0c4802b5373f4ca59fc45d87697d7426",
      "b90fddc202d7442896d1625652981bbd",
      "7f58dc85d3f942208bc2da7345aa629f",
      "163623881a324830ab2181acde242602",
      "f84263a15526434793d5f76366d5a8f0",
      "a31e7291a7ee430daa3c1d895d142133",
      "ff38dc9fd2044b6185a3c8c3032c1139",
      "46148d9d320445cda91156a1812cf829",
      "0cfbc1e5468747cd86e3417ee44fdab7",
      "9c424febd79148138899a4f082d919b6",
      "cdda06df2ac84e36b20da38429fdd73e",
      "d9644ef56f64467daf35e3e4123ee697",
      "027d629ac11c4e1e9f9733651740eceb",
      "d3e0d8e2f16d48d6ba169ce5f72a5cf1",
      "f11ff0fadb3e4151a28ff2d2624e63c9",
      "7c78d90b5b0b451cab65ca8bcb220182",
      "541364f99b2b49fda355ee3e499de9c4",
      "eca8441099f5453abc57c6e452383301",
      "242f4230d4c54e9fa434dfb5052a603f",
      "d75136c72fda443f9d064ec704aba710",
      "d27015f84145419a960b93cce4095082",
      "aa17a97a27f942c9bd282a0823c0d9f2",
      "9901bed4db2a4513aa870003ac1a11ea",
      "514b8a611bc54fa68acfdfacd60081f4",
      "ee90838d65fd4a66a7b7b53183b58a17",
      "65fcb26980054552949ff93fd69f0b38",
      "6bcd04eb5c284608bcbafb4971bd5bc5",
      "f1b27f88c66a43958481e660cbf2b9d3",
      "134c3ce6df1e41e3bc49bf780c31c849",
      "8f414f79ffcb40f6b0264e34f12c1956",
      "02e0c33b74b3420ba7acc3a20cd4474c",
      "8b0877267c814739b17c082139494392",
      "a2d6e3d6912a4393ade04e5d7c9cf904",
      "feac441c1ffa40f2b06373ee130e82ca",
      "67f872098582469692177c33a01ac908",
      "41d9629f5f9648c4a74d7c2f6dc7033b",
      "b0c77ac0547d481ab8c477623a930d35"
     ]
    },
    "height": 47,
    "id": "jLukNBnMQ_kq",
    "outputId": "143a2b3c-8059-4994-9b29-83470db61ae1"
   },
   "outputs": [],
   "source": [
    "iface.launch(share=True, \n",
    "             server_port=int(os.environ['PORT1']))"
   ]
  },
  {
   "cell_type": "markdown",
   "id": "02767040",
   "metadata": {},
   "source": [
    "- Close the demo port."
   ]
  },
  {
   "cell_type": "code",
   "execution_count": null,
   "id": "5d667ef6",
   "metadata": {
    "height": 30
   },
   "outputs": [],
   "source": [
    "iface.close()"
   ]
  },
  {
   "cell_type": "markdown",
   "id": "81b8c37e",
   "metadata": {},
   "source": [
    "### Close the app\n",
    "- Kindly remember to call `.close()` on the Gradio app before continuing."
   ]
  },
  {
   "cell_type": "markdown",
   "id": "5c881f49",
   "metadata": {},
   "source": [
    "### Deploying to Hugging Face Spaces\n",
    "\n",
    "- Go to [https://huggingface.co/spaces](https://huggingface.co/spaces)!\n",
    "\n",
    "\n",
    "- Click the button \"create new space\"."
   ]
  },
  {
   "cell_type": "markdown",
   "id": "b651cca2",
   "metadata": {},
   "source": [
    "- Give the space a name\n",
    "- Choose a license, such as Apache 2.0\n",
    "- For \"Select the Space SDK\", click \"Gradio\".\n",
    "- For Hardware, choose the default free option: \"CPU Basic\"\n"
   ]
  },
  {
   "cell_type": "markdown",
   "id": "094dc96d",
   "metadata": {},
   "source": [
    "- Leave it as \"public\"\n",
    "- Click \"create space\"."
   ]
  },
  {
   "cell_type": "markdown",
   "id": "49c3783c",
   "metadata": {},
   "source": [
    "- You will see a new page with instructions for how to get started by cloning and updating a GitHub repo.\n",
    "- You can also add the required files directly in the web browser if you'd like to get a small app running quickly.  Click on \"Files\" at the top."
   ]
  },
  {
   "cell_type": "markdown",
   "id": "7df88b7e",
   "metadata": {},
   "source": [
    "- Click on \"+ Add file\"->\"Create new File\"."
   ]
  },
  {
   "cell_type": "markdown",
   "id": "3fcdfeba",
   "metadata": {},
   "source": [
    "### Add requirements.txt\n"
   ]
  },
  {
   "cell_type": "markdown",
   "id": "38beed8c",
   "metadata": {},
   "source": [
    "- Add a file called requirements.txt.\n",
    "- Paste in the following:\n",
    "\n",
    "```\n",
    "transformers\n",
    "torch\n",
    "gradio\n",
    "```\n",
    "\n",
    "- Leave \"Commit Directly to the main branch\" selected.\n",
    "- Click \"commit new file to main\"."
   ]
  },
  {
   "cell_type": "markdown",
   "id": "856d1c74",
   "metadata": {},
   "source": [
    "### Add app.py"
   ]
  },
  {
   "cell_type": "markdown",
   "id": "bcaed7f8",
   "metadata": {},
   "source": [
    "- In the textbox \"Name Your File\", type \"app.py\"\n",
    "- In the textbox for your code, paste in the code that you ran above, or copy this block below:\n",
    "\n",
    "```Python\n",
    "import gradio as gr\n",
    "from transformers import pipeline\n",
    "\n",
    "pipe = pipeline(\"image-to-text\",\n",
    "                model=\"Salesforce/blip-image-captioning-base\")\n",
    "\n",
    "\n",
    "def launch(input):\n",
    "    out = pipe(input)\n",
    "    return out[0]['generated_text']\n",
    "\n",
    "iface = gr.Interface(launch,\n",
    "                     inputs=gr.Image(type='pil'),\n",
    "                     outputs=\"text\")\n",
    "\n",
    "iface.launch()\n",
    "```\n",
    "- Notice that `iface.launch()` does not have `share=True`"
   ]
  },
  {
   "cell_type": "markdown",
   "id": "7ad900e4",
   "metadata": {},
   "source": [
    "- Leave \"Commit Directly to the main branch\" selected.\n",
    "- Click \"Commit new file to main\"."
   ]
  },
  {
   "cell_type": "markdown",
   "id": "b50e6b0d",
   "metadata": {},
   "source": [
    "### View the app"
   ]
  },
  {
   "cell_type": "markdown",
   "id": "fae8a136",
   "metadata": {},
   "source": [
    "- You will see that the app is still \"Building\" for a few minutes.\n",
    "- You can click on the \"App\" menu to the left of the \"Files\" menu to see the console as the space is being built."
   ]
  },
  {
   "cell_type": "markdown",
   "id": "18d94677",
   "metadata": {},
   "source": [
    "- When the build is done, you'll see your app!\n",
    "- At the bottom, you can click \"Use via API\" to see sample code that you can use to use your model with an API call."
   ]
  },
  {
   "cell_type": "markdown",
   "id": "736bc3a8",
   "metadata": {},
   "source": [
    "- You can run the pip install if you haven't already done so.\n",
    "- Copy the sample code, which will look something like this:\n",
    "\n",
    "```Python\n",
    "from gradio_client import Client\n",
    "\n",
    "client = Client(\"\")\n",
    "result = client.predict(\"\",\t# Mention the file path reference. It can be local or hosted.\n",
    "\t\tapi_name=\"/predict\"\n",
    ")\n",
    "print(result)\n",
    "```\n",
    "- Note, you can replace the string within `client.predict()` with a string that points to a local file."
   ]
  },
  {
   "cell_type": "markdown",
   "id": "fcf9fe45",
   "metadata": {},
   "source": [
    "- Inspect the information in the API.\n",
    "\n",
    "```Python\n",
    "client.view_api()\n",
    "```\n",
    "- The output may look like this:\n",
    "\n",
    "\n",
    "```\n",
    "Client.predict() Usage Info\n",
    "---------------------------\n",
    "Named API endpoints: 1\n",
    "\n",
    " - predict(input, api_name=\"/predict\") -> output\n",
    "    Parameters:\n",
    "     - [Image] input: filepath \n",
    "    Returns:\n",
    "     - [Textbox] output: str \n",
    "\n",
    "```"
   ]
  },
  {
   "cell_type": "markdown",
   "id": "b5a0f95f",
   "metadata": {},
   "source": [
    "### (Optional) Access to your private space as an API.\n",
    "\n",
    "You can make your space private, so that it can be accessed with an access token.\n",
    "\n",
    "To make the space private click on the \"Settings\" menu at the top.  Scroll down until you see \"Change space visibility\" and click the \"Make private\" button.\n"
   ]
  },
  {
   "cell_type": "markdown",
   "id": "3e165498",
   "metadata": {},
   "source": [
    "### Get an access token\n",
    "- To get an access token, go to your profile (click on your profile icon).\n",
    "- On your profile page, click the \"Settings\" button on the left.\n"
   ]
  },
  {
   "cell_type": "markdown",
   "id": "cc8c1914",
   "metadata": {},
   "source": [
    "- In your profile settings, on the left side menu, click \"Access Tokens\".\n",
    "- Click \"New token\"."
   ]
  },
  {
   "cell_type": "markdown",
   "id": "927a774a",
   "metadata": {},
   "source": [
    "- In the pop-up, give a description of what the token is for.\n",
    "- You can leave it as \"read\" (the other option is \"write\").\n",
    "- Click \"create new token\".  \n"
   ]
  },
  {
   "cell_type": "markdown",
   "id": "be174cdc",
   "metadata": {},
   "source": [
    "- You can copy the access token."
   ]
  },
  {
   "cell_type": "markdown",
   "id": "089b14b3",
   "metadata": {},
   "source": [
    "You can modify the API call to include your access token.\n",
    "\n",
    "```Python\n",
    "from gradio_client import Client\n",
    "\n",
    "client = Client(\"\",\n",
    "                hf_token=hf_access_token\n",
    "               )\n",
    "result = client.predict(\n",
    "\t\t\"\", # Mention the file path reference. It can be local or hosted.\n",
    "\t\tapi_name=\"/predict\"\n",
    ")\n",
    "print(result)\n",
    "```"
   ]
  },
  {
   "cell_type": "markdown",
   "id": "54fa7814",
   "metadata": {},
   "source": [
    "### Saving your access token securely\n",
    "- It's recommended that you not hard code the access token.\n",
    "\n",
    "```Python\n",
    "HF_TOKEN=\"abc1234\" # not recommended\n",
    "```\n",
    "\n",
    "- You can save your access token to a file \".env\"\n",
    "\n",
    "```\n",
    "HF_ACCESS_TOKEN=\"abc123\"\n",
    "```\n",
    "\n",
    "Then access that environment variable with the `dotenv` library\n",
    "\n",
    "```Python\n",
    "# !pip install python-dotenv # install library\n",
    "from dotenv import load_dotenv, find_dotenv\n",
    "import os\n",
    "_ = load_dotenv(find_dotenv())\n",
    "hf_access_token = os.getenv(\"HF_ACCESS_TOKEN\")\n",
    "```"
   ]
  },
  {
   "cell_type": "markdown",
   "id": "929da6d1",
   "metadata": {
    "id": "DH5WBFsETakU"
   },
   "source": [
    "### GPU Zero Space\n",
    "- [ZeroGPU Explorers](https://huggingface.co/zero-gpu-explorers): A place to spin free GPUs on demand for your spaces."
   ]
  },
  {
   "cell_type": "markdown",
   "id": "765e5783",
   "metadata": {},
   "source": [
    "- You can click \"request to join this org\".\n",
    "- It may take a few days/weeks for this to be approved."
   ]
  },
  {
   "cell_type": "code",
   "execution_count": null,
   "id": "11afd9c1",
   "metadata": {},
   "outputs": [],
   "source": []
  }
 ],
 "metadata": {
  "kernelspec": {
   "display_name": "Python 3 (ipykernel)",
   "language": "python",
   "name": "python3"
  },
  "language_info": {
   "codemirror_mode": {
    "name": "ipython",
    "version": 3
   },
   "file_extension": ".py",
   "mimetype": "text/x-python",
   "name": "python",
   "nbconvert_exporter": "python",
   "pygments_lexer": "ipython3",
   "version": "3.9.12"
  }
 },
 "nbformat": 4,
 "nbformat_minor": 5
}
