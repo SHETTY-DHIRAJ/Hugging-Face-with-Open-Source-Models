{
 "cells": [
  {
   "cell_type": "markdown",
   "id": "467bba2a",
   "metadata": {},
   "source": [
    "# Text to Speech"
   ]
  },
  {
   "cell_type": "markdown",
   "id": "fc13021c",
   "metadata": {},
   "source": [
    "- Install the following:\n",
    "\n",
    "```\n",
    "    !pip install transformers\n",
    "    !pip install gradio\n",
    "    !pip install timm\n",
    "    !pip install timm\n",
    "    !pip install inflect\n",
    "    !pip install phonemizer\n",
    "    \n",
    "```"
   ]
  },
  {
   "cell_type": "markdown",
   "id": "84d6a79c",
   "metadata": {},
   "source": [
    "**Note:**  `py-espeak-ng` is only available Linux operating systems.\n",
    "\n",
    "To run locally in a Linux machine, follow these commands:\n",
    "```\n",
    "    sudo apt-get update\n",
    "    sudo apt-get install espeak-ng\n",
    "    pip install py-espeak-ng\n",
    "```"
   ]
  },
  {
   "cell_type": "markdown",
   "id": "8dfa02a0",
   "metadata": {},
   "source": [
    "### Build the `text-to-speech` pipeline using the 🤗 Transformers Library"
   ]
  },
  {
   "cell_type": "markdown",
   "id": "568f34a5",
   "metadata": {},
   "source": [
    "- Here is some code that suppresses warning messages."
   ]
  },
  {
   "cell_type": "code",
   "execution_count": null,
   "id": "f72e1037",
   "metadata": {
    "height": 64,
    "tags": []
   },
   "outputs": [],
   "source": [
    "from transformers.utils import logging\n",
    "\n",
    "logging.set_verbosity_error()"
   ]
  },
  {
   "cell_type": "code",
   "execution_count": null,
   "id": "22137bdc",
   "metadata": {
    "height": 81,
    "tags": []
   },
   "outputs": [],
   "source": [
    "from transformers import pipeline\n",
    "\n",
    "narrator = pipeline(\"text-to-speech\",\n",
    "                    model=\"./models/kakao-enterprise/vits-ljs\")"
   ]
  },
  {
   "cell_type": "markdown",
   "id": "cb89cfa3",
   "metadata": {},
   "source": [
    "Info about [kakao-enterprise/vits-ljs](https://huggingface.co/kakao-enterprise/vits-ljs)"
   ]
  },
  {
   "cell_type": "code",
   "execution_count": null,
   "id": "1c803b7e",
   "metadata": {
    "height": 166,
    "tags": []
   },
   "outputs": [],
   "source": [
    "text = \"\"\"\n",
    "Researchers at the Allen Institute for AI, \\\n",
    "HuggingFace, Microsoft, the University of Washington, \\\n",
    "Carnegie Mellon University, and the Hebrew University of \\\n",
    "Jerusalem developed a tool that measures atmospheric \\\n",
    "carbon emitted by cloud servers while training machine \\\n",
    "learning models. After a model’s size, the biggest variables \\\n",
    "were the server’s location and time of day it was active.\n",
    "\"\"\""
   ]
  },
  {
   "cell_type": "code",
   "execution_count": null,
   "id": "b3a8fe83",
   "metadata": {
    "height": 30,
    "tags": []
   },
   "outputs": [],
   "source": [
    "narrated_text = narrator(text)"
   ]
  },
  {
   "cell_type": "code",
   "execution_count": null,
   "id": "f1cfe519",
   "metadata": {
    "height": 81
   },
   "outputs": [],
   "source": [
    "from IPython.display import Audio as IPythonAudio\n",
    "\n",
    "IPythonAudio(narrated_text[\"audio\"][0],\n",
    "             rate=narrated_text[\"sampling_rate\"])"
   ]
  },
  {
   "cell_type": "markdown",
   "id": "8e321b6a",
   "metadata": {},
   "source": [
    "### Try it yourself! \n",
    "- Try this model with your own text to speech examples!"
   ]
  },
  {
   "cell_type": "code",
   "execution_count": null,
   "id": "97208426",
   "metadata": {},
   "outputs": [],
   "source": []
  }
 ],
 "metadata": {
  "kernelspec": {
   "display_name": "Python 3 (ipykernel)",
   "language": "python",
   "name": "python3"
  },
  "language_info": {
   "codemirror_mode": {
    "name": "ipython",
    "version": 3
   },
   "file_extension": ".py",
   "mimetype": "text/x-python",
   "name": "python",
   "nbconvert_exporter": "python",
   "pygments_lexer": "ipython3",
   "version": "3.9.12"
  }
 },
 "nbformat": 4,
 "nbformat_minor": 5
}
