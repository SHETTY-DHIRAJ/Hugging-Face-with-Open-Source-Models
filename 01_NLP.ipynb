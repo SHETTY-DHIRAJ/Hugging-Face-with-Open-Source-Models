{
 "cells": [
  {
   "cell_type": "markdown",
   "id": "2c6728be",
   "metadata": {},
   "source": [
    "# Natural Language Processing (NLP)"
   ]
  },
  {
   "cell_type": "markdown",
   "id": "9c4fb335",
   "metadata": {},
   "source": [
    "- Install transformers librarie.\n",
    "```\n",
    "    !pip install transformers\n",
    "```"
   ]
  },
  {
   "cell_type": "markdown",
   "id": "62ebf1c3",
   "metadata": {},
   "source": [
    "### Build the `chatbot` pipeline using 🤗 Transformers Library"
   ]
  },
  {
   "cell_type": "markdown",
   "id": "b3b6b93c",
   "metadata": {},
   "source": [
    "- Here is some code that suppresses warning messages."
   ]
  },
  {
   "cell_type": "code",
   "execution_count": null,
   "id": "8f369eb1",
   "metadata": {
    "height": 47
   },
   "outputs": [],
   "source": [
    "from transformers.utils import logging\n",
    "logging.set_verbosity_error()"
   ]
  },
  {
   "cell_type": "code",
   "execution_count": null,
   "id": "a401665d",
   "metadata": {
    "height": 30
   },
   "outputs": [],
   "source": [
    "from transformers import pipeline"
   ]
  },
  {
   "cell_type": "markdown",
   "id": "b50ed332",
   "metadata": {},
   "source": [
    "- Define the conversation pipeline"
   ]
  },
  {
   "cell_type": "code",
   "execution_count": null,
   "id": "e04fb180",
   "metadata": {
    "height": 47
   },
   "outputs": [],
   "source": [
    "chatbot = pipeline(task=\"conversational\",\n",
    "                   model=\"./models/facebook/blenderbot-400M-distill\")"
   ]
  },
  {
   "cell_type": "markdown",
   "id": "e532d0d7",
   "metadata": {},
   "source": [
    "- Info about ['blenderbot-400M-distill'](https://huggingface.co/facebook/blenderbot-400M-distill)"
   ]
  },
  {
   "cell_type": "code",
   "execution_count": null,
   "id": "93ce7722",
   "metadata": {
    "height": 64
   },
   "outputs": [],
   "source": [
    "user_message = \"\"\"\n",
    "What are some fun activities I can do in the winter?\n",
    "\"\"\""
   ]
  },
  {
   "cell_type": "code",
   "execution_count": null,
   "id": "923e4c2a",
   "metadata": {
    "height": 30
   },
   "outputs": [],
   "source": [
    "from transformers import Conversation"
   ]
  },
  {
   "cell_type": "code",
   "execution_count": null,
   "id": "62867c64",
   "metadata": {
    "height": 30
   },
   "outputs": [],
   "source": [
    "conversation = Conversation(user_message)"
   ]
  },
  {
   "cell_type": "code",
   "execution_count": null,
   "id": "674ac081",
   "metadata": {
    "height": 30
   },
   "outputs": [],
   "source": [
    "print(conversation)"
   ]
  },
  {
   "cell_type": "code",
   "execution_count": null,
   "id": "d0205fbf",
   "metadata": {
    "height": 30
   },
   "outputs": [],
   "source": [
    "conversation = chatbot(conversation)"
   ]
  },
  {
   "cell_type": "code",
   "execution_count": null,
   "id": "c2be2728",
   "metadata": {
    "height": 30
   },
   "outputs": [],
   "source": [
    "print(conversation)"
   ]
  },
  {
   "cell_type": "markdown",
   "id": "95da6fcb",
   "metadata": {},
   "source": [
    "- We will continue the conversation with the chatbot with:"
   ]
  },
  {
   "cell_type": "code",
   "execution_count": null,
   "id": "005ad302",
   "metadata": {},
   "outputs": [],
   "source": [
    "print(chatbot(Conversation(\"What else do you recommend?\")))"
   ]
  },
  {
   "cell_type": "markdown",
   "id": "fb03b9b3",
   "metadata": {},
   "source": [
    "- However, the chatbot may provide an unrelated response because it does not have memory of any prior conversations.\n",
    "\n",
    "- To include prior conversations in the LLM's context, we can add a 'message' to include the previous chat history."
   ]
  },
  {
   "cell_type": "code",
   "execution_count": null,
   "id": "52e8a0b1",
   "metadata": {
    "height": 115
   },
   "outputs": [],
   "source": [
    "conversation.add_message(\n",
    "    {\"role\": \"user\",\n",
    "     \"content\": \"\"\"\n",
    "What else do you recommend?\n",
    "\"\"\"\n",
    "    })"
   ]
  },
  {
   "cell_type": "code",
   "execution_count": null,
   "id": "ac13db78",
   "metadata": {
    "height": 30
   },
   "outputs": [],
   "source": [
    "print(conversation)"
   ]
  },
  {
   "cell_type": "code",
   "execution_count": null,
   "id": "76255d39",
   "metadata": {
    "height": 64
   },
   "outputs": [],
   "source": [
    "conversation = chatbot(conversation)\n",
    "\n",
    "print(conversation)"
   ]
  },
  {
   "cell_type": "markdown",
   "id": "9200335d",
   "metadata": {},
   "source": [
    "### Try chatting with the model!"
   ]
  },
  {
   "cell_type": "code",
   "execution_count": null,
   "id": "c6a3330a",
   "metadata": {},
   "outputs": [],
   "source": []
  },
  {
   "cell_type": "markdown",
   "id": "a161ba2e",
   "metadata": {},
   "source": [
    "- [Open LLM Leaderboard](https://huggingface.co/spaces/HuggingFaceH4/open_llm_leaderboard)\n",
    "- [LMSYS Chatbot Arena Leaderboard](https://huggingface.co/spaces/lmsys/chatbot-arena-leaderboard)"
   ]
  }
 ],
 "metadata": {
  "kernelspec": {
   "display_name": "Python 3 (ipykernel)",
   "language": "python",
   "name": "python3"
  },
  "language_info": {
   "codemirror_mode": {
    "name": "ipython",
    "version": 3
   },
   "file_extension": ".py",
   "mimetype": "text/x-python",
   "name": "python",
   "nbconvert_exporter": "python",
   "pygments_lexer": "ipython3",
   "version": "3.9.12"
  }
 },
 "nbformat": 4,
 "nbformat_minor": 5
}
